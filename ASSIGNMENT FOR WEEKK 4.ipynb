{
 "cells": [
  {
   "cell_type": "markdown",
   "id": "ec7d1b7c",
   "metadata": {},
   "source": [
    "# PYTHAGORAS  CALCULATOR ASSIGNMENT "
   ]
  },
  {
   "cell_type": "code",
   "execution_count": null,
   "id": "91f4a3c5",
   "metadata": {
    "scrolled": true
   },
   "outputs": [],
   "source": [
    "#importing math library \n",
    "import math\n",
    "\n",
    "#enter base\n",
    "AB = int(input('input Base'))\n",
    "print('You have entered  ' +  str(AB) + ' as Base' )\n",
    "\n",
    "#Enter altitude \n",
    "AC = int(input('input AC'))\n",
    "print('You have entered  ' +  str(AC) + ' as altitude')\n",
    "\n",
    "#summing the products\n",
    "BCC = AB**2 + AC**2\n",
    "\n",
    "#taking the square root of the sum \n",
    "BC =  math.sqrt(BCC)\n",
    "\n",
    "# BC=BCC**0.5 ==== an alternative to the preceding line \n",
    "print('The hypotenuse is '+ str(BC))\n"
   ]
  },
  {
   "cell_type": "markdown",
   "id": "06662c51",
   "metadata": {},
   "source": [
    "# CARS"
   ]
  },
  {
   "cell_type": "code",
   "execution_count": null,
   "id": "14b4d7fa",
   "metadata": {},
   "outputs": [],
   "source": []
  },
  {
   "cell_type": "code",
   "execution_count": 4,
   "id": "a55142cb",
   "metadata": {},
   "outputs": [
    {
     "name": "stdout",
     "output_type": "stream",
     "text": [
      "the car is Audi\n"
     ]
    }
   ],
   "source": [
    "class cars:\n",
    "    def __init__ (cars, name , brand ,number_of_doors ,fuel_type):\n",
    "        \n",
    "     cars.name = name\n",
    "     cars.brand = brand \n",
    "     cars.number_of_doors = number_of_doors\n",
    "     cars.fuel_type= fuel_type\n",
    "    \n",
    "    def intro(cars):\n",
    "        print('the car is '+ cars.name)\n",
    "\n",
    "New_car = cars(\"range rover\", \"Velar\" , \"4\" , \"Disel\")\n",
    "\n",
    "New_car.name = \"Audi\"\n",
    "\n",
    "New_car.intro()\n"
   ]
  },
  {
   "cell_type": "markdown",
   "id": "26b5444f",
   "metadata": {},
   "source": [
    "# FIBONACCI SEQUENCE "
   ]
  },
  {
   "cell_type": "code",
   "execution_count": null,
   "id": "6e439066",
   "metadata": {},
   "outputs": [],
   "source": [
    "#Accepting input from user\n",
    "n = input('How many terms : ')\n",
    "n = int(n)\n",
    "print('fibonacci series up to  '+ str(n) + ' :')\n",
    "\n",
    "n1 , n2 = 0 , 1 \n",
    "\n",
    "if n <= 0: #Dealing with negative numbers \n",
    "    print('Invild input \\nPlease enter a positive number ')\n",
    "\n",
    "elif n == 1 :\n",
    "    print(n1)\n",
    "else :\n",
    "    print('Fibonacci series : ' )\n",
    "    count = 0\n",
    "    while count < n :\n",
    "        print(n1)\n",
    "        nth = n1 + n2\n",
    "        n1 = n2\n",
    "        n2 = nth \n",
    "        count +=1\n",
    "        "
   ]
  }
 ],
 "metadata": {
  "kernelspec": {
   "display_name": "Python 3 (ipykernel)",
   "language": "python",
   "name": "python3"
  },
  "language_info": {
   "codemirror_mode": {
    "name": "ipython",
    "version": 3
   },
   "file_extension": ".py",
   "mimetype": "text/x-python",
   "name": "python",
   "nbconvert_exporter": "python",
   "pygments_lexer": "ipython3",
   "version": "3.9.7"
  }
 },
 "nbformat": 4,
 "nbformat_minor": 5
}
